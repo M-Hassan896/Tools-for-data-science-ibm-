{
 "cells": [
  {
   "cell_type": "markdown",
   "id": "fcdef891",
   "metadata": {},
   "source": [
    "# Tools for Data Science Final Assesment"
   ]
  },
  {
   "cell_type": "markdown",
   "id": "4a334ce6",
   "metadata": {},
   "source": [
    "Hi My self Muhammad Hassan I want to be a data scientist. I am eager to learn and gow in this field."
   ]
  },
  {
   "cell_type": "markdown",
   "id": "29ebf7b6",
   "metadata": {},
   "source": [
    "# Popular Data Science Languages\n",
    "Python: A high-level, general-purpose programming language that is commonly used for data analysis, machine learning, and web development.\n",
    "R: A programming language and environment for statistical computing and graphics, commonly used in data analysis and academic research.\n",
    "SQL: A domain-specific language used in programming and managing relational databases.\n",
    "Julia: A high-level, high-performance programming language for numerical and scientific computing, data science, and machine learning.\n",
    "MATLAB: A proprietary programming language and numerical computing environment commonly used in engineering and scientific research.\n",
    "Scala: A general-purpose programming language that runs on the Java virtual machine, commonly used in big data processing and distributed computing."
   ]
  },
  {
   "cell_type": "markdown",
   "id": "987582ed",
   "metadata": {},
   "source": [
    "# Popular Data Science Libraries\n",
    "NumPy: \n",
    "A library for the Python programming language that provides support for large, multi-dimensional arrays and matrices, along with a large collection of mathematical functions to operate on these arrays.\n",
    "Pandas: \n",
    "A library for the Python programming language that provides fast, flexible, and expressive data structures designed to make working with \"relational\" or \"labeled\" data both easy and intuitive.\n",
    "Scikit-learn: \n",
    "A library for the Python programming language that provides a wide range of algorithms for machine learning tasks such as classification, regression, clustering, and dimensionality reduction.\n",
    "TensorFlow: \n",
    "A library for the Python programming language that provides support for building and training machine learning models, particularly neural networks.\n",
    "Keras:\n",
    "A high-level neural networks API, written in Python and capable of running on top of TensorFlow or Theano. It allows for easy and fast prototyping of deep learning models.\n",
    "Matplotlib:\n",
    "A library for the Python programming language that provides support for creating static, animated, and interactive visualizations in Python.\n",
    "Seaborn: \n",
    "A library for the Python programming language that provides a high-level interface for creating attractive and informative statistical graphics.\n",
    "PyTorch: \n",
    "A library for the Python programming language that provides support for building and training machine learning models, particularly neural networks. It is particularly well-suited for research and rapid prototyping.\n",
    "SciPy: \n",
    "A library for the Python programming language that provides support for scientific and technical computing, including functions for optimization, integration, interpolation, linear algebra, and more."
   ]
  },
  {
   "cell_type": "markdown",
   "id": "621f367b",
   "metadata": {},
   "source": [
    "# Create a markdown cell with a table of Data Science tools.\n",
    "\n",
    "| Tool          | Description                                                                                          |\n",
    "|---------------|------------------------------------------------------------------------------------------------------|\n",
    "| Jupyter Notebook   | An open-source web application that allows you to create and share documents that contain live code, equations, visualizations, and narrative text. |\n",
    "| Apache Spark       | A unified analytics engine for large-scale data processing, designed to handle both batch and streaming data processing tasks.                                    |\n",
    "| Apache Hadoop      | An open-source software framework used for distributed storage and processing of big data sets using the MapReduce programming model.                            |\n",
    "| Apache Flink       | An open-source platform for distributed stream and batch data processing, with support for event-driven applications and stateful computations.             |\n",
    "| Tableau            | A powerful data visualization and business intelligence tool that allows users to connect, visualize, and share data in a highly interactive way.                |\n",
    "\n"
   ]
  },
  {
   "cell_type": "markdown",
   "id": "8885c02c",
   "metadata": {},
   "source": [
    "# Create a markdown cell introducing arithmetic expression examples.\n",
    "Arithmetic expressions are mathematical expressions that involve basic arithmetic operations, such as addition, subtraction, multiplication, and division. These expressions are commonly used in Data Science to perform calculations and manipulate numerical data.\n",
    "\n",
    "Here are some examples of arithmetic expressions:\n",
    "5 + 2          # addition: evaluates to 7\n",
    "10 - 3         # subtraction: evaluates to 7\n",
    "4 * 6          # multiplication: evaluates to 24\n",
    "20 / 5         # division: evaluates to 4.0 (note: the result is a float)\n",
    "7 // 2         # integer division: evaluates to 3 (note: the result is an integer)\n",
    "7 % 2          # modulus: evaluates to 1 (note: the result is the remainder after division)\n",
    "3 ** 4         # exponentiation: evaluates to 81 (note: the result is 3 raised to the power of 4)\n"
   ]
  },
  {
   "cell_type": "markdown",
   "id": "f6c50136",
   "metadata": {},
   "source": [
    "# - Create a code cell to multiply and add numbers.\n",
    "# Multiplication\n",
    "x = 5\n",
    "y = 10\n",
    "result_mul = x * y\n",
    "print(\"The result of multiplying\", x, \"and\", y, \"is\", result_mul)\n",
    "\n",
    "# Addition\n",
    "a = 15\n",
    "b = 20\n",
    "result_add = a + b\n",
    "print(\"The result of adding\", a, \"and\", b, \"is\", result_add)\n"
   ]
  },
  {
   "cell_type": "markdown",
   "id": "6ff4b1ba",
   "metadata": {},
   "source": [
    "# Create a code cell to convert minutes to hours\n",
    " \n",
    "minutes = 120\n",
    "hours = minutes / 60\n",
    "print(minutes, \"minutes is equal to\", hours, \"hours.\")\n"
   ]
  },
  {
   "cell_type": "markdown",
   "id": "3475610e",
   "metadata": {},
   "source": [
    "# Insert a markdown cell to list Objectives\n",
    "The objectives of a Data Science project may vary depending on the specific goals and requirements of the project. Here are some common objectives that a Data Science project may aim to achieve:\n",
    "\n",
    "Data collection and cleaning: Collecting and cleaning relevant data from various sources, such as databases, websites, or APIs, to prepare it for analysis.\n",
    "Exploratory data analysis: Analyzing the data to identify patterns, trends, and relationships, and to gain insights into the underlying data.\n",
    "Data visualization: Creating visualizations, such as charts, graphs, and maps, to communicate the insights and findings from the data analysis.\n",
    "Machine learning modeling: Building predictive models using machine learning algorithms to make accurate predictions or classifications based on the data.\n",
    "Model evaluation and refinement: Evaluating the performance of the models and refining them to improve their accuracy and generalization ability.\n",
    "Deployment and integration: Deploying the models into production environments and integrating them into the existing systems and workflows."
   ]
  },
  {
   "cell_type": "markdown",
   "id": "35aa4316",
   "metadata": {},
   "source": [
    "# Author's\n",
    "\n",
    "Muhammad Hassan"
   ]
  }
 ],
 "metadata": {
  "kernelspec": {
   "display_name": "Python 3 (ipykernel)",
   "language": "python",
   "name": "python3"
  },
  "language_info": {
   "codemirror_mode": {
    "name": "ipython",
    "version": 3
   },
   "file_extension": ".py",
   "mimetype": "text/x-python",
   "name": "python",
   "nbconvert_exporter": "python",
   "pygments_lexer": "ipython3",
   "version": "3.9.7"
  }
 },
 "nbformat": 4,
 "nbformat_minor": 5
}
